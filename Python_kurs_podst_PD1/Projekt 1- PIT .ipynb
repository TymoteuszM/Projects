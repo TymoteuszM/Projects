{
 "cells": [
  {
   "cell_type": "code",
   "execution_count": null,
   "metadata": {},
   "outputs": [],
   "source": []
  },
  {
   "cell_type": "code",
   "execution_count": 3,
   "metadata": {},
   "outputs": [
    {
     "name": "stdout",
     "output_type": "stream",
     "text": [
      "Podaj liczbę źródeł dochodu:2\n",
      "Podaj nazwę przychodu:jeden\n",
      "Podaj kwotę przychodu w zł:1000000\n",
      "Podaj kwotę uzyskania przychodu w zł:10\n",
      "Podaj nazwę przychodu:dwa\n",
      "Podaj kwotę przychodu w zł:90\n",
      "Podaj kwotę uzyskania przychodu w zł:1300\n",
      "Dochód 999990.0 zł wyliczony podatek: 347166.72 zł\n"
     ]
    },
    {
     "data": {
      "text/plain": [
       "0"
      ]
     },
     "execution_count": 3,
     "metadata": {},
     "output_type": "execute_result"
    }
   ],
   "source": [
    "import os\n",
    "x=int(input(\"Podaj liczbę źródeł dochodu:\"))\n",
    "a=[]\n",
    "przychod=[]\n",
    "koszt=[]\n",
    "dochod=0\n",
    "podatek=0\n",
    "\n",
    "for i in range(x):\n",
    "    a.append(input(\"Podaj nazwę przychodu:\"))\n",
    "    przychod.append(float(input(\"Podaj kwotę przychodu w zł:\")))\n",
    "    koszt.append(float(input(\"Podaj kwotę uzyskania przychodu w zł:\")))\n",
    "    if(koszt[i]>przychod[i]):\n",
    "        dochod=dochod\n",
    "    else:\n",
    "        dochod=dochod+przychod[i]-koszt[i]\n",
    "                \n",
    "if(dochod<=8000):\n",
    "    podatek=0\n",
    "elif(dochod<=13000):\n",
    "    podatek =0.17*dochod-(1360-834.88*(dochod-8000)/5000)\n",
    "elif(dochod<=85528):\n",
    "    podatek=0.17*dochod-525.12\n",
    "elif(dochod<=127000):\n",
    "    podatek=14539.76+0.32*(dochod-85528)-(525.12-525.12*(dochod-85528)/41472)\n",
    "elif(dochod<10^6):\n",
    "    podatek=14539.76+0.32*(dochod-85528)\n",
    "else:\n",
    "    podatek=14539.76+0.32*(dochod-85528)+0.04*(dochod-float(10^6))\n",
    "                      \n",
    "print(f\"Dochód {round(dochod,2)} zł wyliczony podatek: {round(podatek,2)} zł\")\n",
    "os.system(\"pause\")\n",
    "\n"
   ]
  },
  {
   "cell_type": "code",
   "execution_count": 2,
   "metadata": {},
   "outputs": [],
   "source": []
  },
  {
   "cell_type": "code",
   "execution_count": 3,
   "metadata": {},
   "outputs": [
    {
     "name": "stdout",
     "output_type": "stream",
     "text": [
      "5\n"
     ]
    }
   ],
   "source": []
  },
  {
   "cell_type": "code",
   "execution_count": null,
   "metadata": {},
   "outputs": [],
   "source": []
  }
 ],
 "metadata": {
  "kernelspec": {
   "display_name": "Python 3",
   "language": "python",
   "name": "python3"
  },
  "language_info": {
   "codemirror_mode": {
    "name": "ipython",
    "version": 3
   },
   "file_extension": ".py",
   "mimetype": "text/x-python",
   "name": "python",
   "nbconvert_exporter": "python",
   "pygments_lexer": "ipython3",
   "version": "3.7.4"
  }
 },
 "nbformat": 4,
 "nbformat_minor": 2
}
