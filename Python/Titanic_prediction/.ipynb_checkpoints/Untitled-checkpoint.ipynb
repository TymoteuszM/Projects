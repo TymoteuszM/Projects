{
 "cells": [
  {
   "cell_type": "code",
   "execution_count": 28,
   "metadata": {},
   "outputs": [],
   "source": [
    "import pandas as pd\n",
    "from sklearn.preprocessing import MinMaxScaler \n",
    "train_data = pd.read_csv(\"train.csv\")\n",
    "test_data = pd.read_csv(\"test.csv\")\n",
    "gender_data = pd.read_csv(\"gender_submission.csv\")"
   ]
  },
  {
   "cell_type": "code",
   "execution_count": 29,
   "metadata": {},
   "outputs": [],
   "source": [
    "all_passengers = pd.concat([train_data.drop(\"Survived\", axis = 1), test_data], axis = 0)\n",
    "all_passengers = all_passengers.reset_index(drop = True)"
   ]
  },
  {
   "cell_type": "code",
   "execution_count": 30,
   "metadata": {},
   "outputs": [
    {
     "data": {
      "text/plain": [
       "0    687\n",
       "C     59\n",
       "B     47\n",
       "D     33\n",
       "E     32\n",
       "A     15\n",
       "F     13\n",
       "G      4\n",
       "T      1\n",
       "Name: Cabin_type, dtype: int64"
      ]
     },
     "execution_count": 30,
     "metadata": {},
     "output_type": "execute_result"
    }
   ],
   "source": [
    "train_data2=train_data\n",
    "train_data2[\"Name\"]=train_data2[\"Name\"].str.split(pat = \",\")\n",
    "train_data2[\"Name\"] = train_data2[\"Name\"].apply(lambda x: x[0])\n",
    "#Transformacja kabiny\n",
    "train_data2[\"Cabin\"]=train_data2[\"Cabin\"].fillna(\"0\")\n",
    "train_data2[\"Cabin\"]\n",
    "train_data2[\"Cabin_type\"]=train_data2[\"Cabin\"].apply(lambda x: x[0])\n",
    "train_data2[\"Cabin_type\"].value_counts()"
   ]
  },
  {
   "cell_type": "code",
   "execution_count": 31,
   "metadata": {},
   "outputs": [],
   "source": [
    "#Tworzenie listy na podstawie elementow oddzielonych przecinkiem\n",
    "all_passengers[\"Name\"] = all_passengers[\"Name\"].str.split(pat = \",\")\n",
    "#Wybieranie pierwszego elementu z listy\n",
    "all_passengers[\"Name\"] = all_passengers[\"Name\"].apply(lambda x: x[0])"
   ]
  },
  {
   "cell_type": "code",
   "execution_count": 32,
   "metadata": {},
   "outputs": [],
   "source": [
    "trav_together = all_passengers[(all_passengers[\"SibSp\"] != 0) | (all_passengers[\"Parch\"] != 0)].sort_values(\"Name\")"
   ]
  },
  {
   "cell_type": "code",
   "execution_count": 33,
   "metadata": {},
   "outputs": [],
   "source": [
    "train_data2[\"Adult\"]=(train_data2[\"Age\"]>18).astype(int)\n",
    "train_data2[\"Sex\"]=(train_data2[\"Sex\"]=='male').astype(int)"
   ]
  },
  {
   "cell_type": "code",
   "execution_count": 34,
   "metadata": {
    "scrolled": true
   },
   "outputs": [
    {
     "name": "stdout",
     "output_type": "stream",
     "text": [
      "Pclass\n",
      "1    0.629630\n",
      "2    0.472826\n",
      "3    0.242363\n",
      "Name: Survived, dtype: float64\n",
      "Sex\n",
      "0    0.742038\n",
      "1    0.188908\n",
      "Name: Survived, dtype: float64\n",
      "Adult\n",
      "0    0.386076\n",
      "1    0.382609\n",
      "Name: Survived, dtype: float64\n",
      "Cabin_type\n",
      "0    0.299854\n",
      "A    0.466667\n",
      "B    0.744681\n",
      "C    0.593220\n",
      "D    0.757576\n",
      "E    0.750000\n",
      "F    0.615385\n",
      "G    0.500000\n",
      "T    0.000000\n",
      "Name: Survived, dtype: float64\n"
     ]
    },
    {
     "data": {
      "text/plain": [
       "Embarked\n",
       "C    0.553571\n",
       "Q    0.389610\n",
       "S    0.336957\n",
       "Name: Survived, dtype: float64"
      ]
     },
     "execution_count": 34,
     "metadata": {},
     "output_type": "execute_result"
    }
   ],
   "source": [
    "print(train_data2.groupby(\"Pclass\").mean()[\"Survived\"])\n",
    "print(train_data2.groupby(\"Sex\").mean()[\"Survived\"])\n",
    "print(train_data2.groupby(\"Adult\").mean()[\"Survived\"])\n",
    "print(train_data2.groupby(\"Cabin_type\").mean()[\"Survived\"])\n",
    "train_data2[\"Cabin_type\"].value_counts()\n",
    "train_data2.groupby(\"Embarked\").mean()[\"Survived\"]\n",
    "#train_data2.groupby(\"Pclass\").mean()[\"Survived\"]\n",
    "\n",
    "\n"
   ]
  },
  {
   "cell_type": "raw",
   "metadata": {},
   "source": []
  },
  {
   "cell_type": "code",
   "execution_count": 35,
   "metadata": {},
   "outputs": [],
   "source": [
    "train_data3 = train_data2.drop([\"PassengerId\",\"Cabin\",\"Name\",\"SibSp\",\"Parch\",\"Ticket\",\"Cabin_type\"],axis=1)"
   ]
  },
  {
   "cell_type": "code",
   "execution_count": 36,
   "metadata": {},
   "outputs": [
    {
     "data": {
      "text/html": [
       "<div>\n",
       "<style scoped>\n",
       "    .dataframe tbody tr th:only-of-type {\n",
       "        vertical-align: middle;\n",
       "    }\n",
       "\n",
       "    .dataframe tbody tr th {\n",
       "        vertical-align: top;\n",
       "    }\n",
       "\n",
       "    .dataframe thead th {\n",
       "        text-align: right;\n",
       "    }\n",
       "</style>\n",
       "<table border=\"1\" class=\"dataframe\">\n",
       "  <thead>\n",
       "    <tr style=\"text-align: right;\">\n",
       "      <th></th>\n",
       "      <th>Survived</th>\n",
       "      <th>Pclass</th>\n",
       "      <th>Sex</th>\n",
       "      <th>Age</th>\n",
       "      <th>Fare</th>\n",
       "      <th>Embarked</th>\n",
       "      <th>Adult</th>\n",
       "    </tr>\n",
       "  </thead>\n",
       "  <tbody>\n",
       "    <tr>\n",
       "      <td>355</td>\n",
       "      <td>0</td>\n",
       "      <td>3</td>\n",
       "      <td>1</td>\n",
       "      <td>28.0</td>\n",
       "      <td>9.5000</td>\n",
       "      <td>S</td>\n",
       "      <td>1</td>\n",
       "    </tr>\n",
       "    <tr>\n",
       "      <td>344</td>\n",
       "      <td>0</td>\n",
       "      <td>2</td>\n",
       "      <td>1</td>\n",
       "      <td>36.0</td>\n",
       "      <td>13.0000</td>\n",
       "      <td>S</td>\n",
       "      <td>1</td>\n",
       "    </tr>\n",
       "    <tr>\n",
       "      <td>445</td>\n",
       "      <td>1</td>\n",
       "      <td>1</td>\n",
       "      <td>1</td>\n",
       "      <td>4.0</td>\n",
       "      <td>81.8583</td>\n",
       "      <td>S</td>\n",
       "      <td>0</td>\n",
       "    </tr>\n",
       "    <tr>\n",
       "      <td>61</td>\n",
       "      <td>1</td>\n",
       "      <td>1</td>\n",
       "      <td>0</td>\n",
       "      <td>38.0</td>\n",
       "      <td>80.0000</td>\n",
       "      <td>NaN</td>\n",
       "      <td>1</td>\n",
       "    </tr>\n",
       "    <tr>\n",
       "      <td>829</td>\n",
       "      <td>1</td>\n",
       "      <td>1</td>\n",
       "      <td>0</td>\n",
       "      <td>62.0</td>\n",
       "      <td>80.0000</td>\n",
       "      <td>NaN</td>\n",
       "      <td>1</td>\n",
       "    </tr>\n",
       "  </tbody>\n",
       "</table>\n",
       "</div>"
      ],
      "text/plain": [
       "     Survived  Pclass  Sex   Age     Fare Embarked  Adult\n",
       "355         0       3    1  28.0   9.5000        S      1\n",
       "344         0       2    1  36.0  13.0000        S      1\n",
       "445         1       1    1   4.0  81.8583        S      0\n",
       "61          1       1    0  38.0  80.0000      NaN      1\n",
       "829         1       1    0  62.0  80.0000      NaN      1"
      ]
     },
     "execution_count": 36,
     "metadata": {},
     "output_type": "execute_result"
    }
   ],
   "source": [
    "train_data3.sort_values(\"Embarked\").tail()"
   ]
  },
  {
   "cell_type": "code",
   "execution_count": 37,
   "metadata": {},
   "outputs": [
    {
     "data": {
      "text/plain": [
       "Survived      0\n",
       "Pclass        0\n",
       "Sex           0\n",
       "Age         177\n",
       "Fare          0\n",
       "Embarked      2\n",
       "Adult         0\n",
       "dtype: int64"
      ]
     },
     "execution_count": 37,
     "metadata": {},
     "output_type": "execute_result"
    }
   ],
   "source": [
    "train_data3.isna().sum()"
   ]
  },
  {
   "cell_type": "code",
   "execution_count": 38,
   "metadata": {},
   "outputs": [
    {
     "name": "stdout",
     "output_type": "stream",
     "text": [
      "     Survived  Pclass  Sex   Age     Fare  Adult  Q  S\n",
      "0           0       3    1  22.0   7.2500      1  0  1\n",
      "1           1       1    0  38.0  71.2833      1  0  0\n",
      "2           1       3    0  26.0   7.9250      1  0  1\n",
      "3           1       1    0  35.0  53.1000      1  0  1\n",
      "4           0       3    1  35.0   8.0500      1  0  1\n",
      "..        ...     ...  ...   ...      ...    ... .. ..\n",
      "886         0       2    1  27.0  13.0000      1  0  1\n",
      "887         1       1    0  19.0  30.0000      1  0  1\n",
      "888         0       3    0   NaN  23.4500      0  0  1\n",
      "889         1       1    1  26.0  30.0000      1  0  0\n",
      "890         0       3    1  32.0   7.7500      1  1  0\n",
      "\n",
      "[891 rows x 8 columns]\n"
     ]
    }
   ],
   "source": [
    "# zmaiana zmiennych kategorycznych na zmienne binarne\n",
    "# one hot encoding\n",
    "embarked=train_data3[\"Embarked\"]\n",
    "embarked_dummies=pd.get_dummies(embarked,drop_first=True)\n",
    "embarked_dummies.head()\n",
    "#Wyrzucenie zmiennej kategorycznej embarked i\n",
    "#zamiana jej na zmienna binarna\n",
    "\n",
    "\n",
    "train_data4=train_data3.drop(\"Embarked\",axis=1)\n",
    "train_data4=pd.concat([train_data4,embarked_dummies],axis=1)\n",
    "print(train_data4)"
   ]
  },
  {
   "cell_type": "code",
   "execution_count": null,
   "metadata": {},
   "outputs": [],
   "source": []
  },
  {
   "cell_type": "code",
   "execution_count": null,
   "metadata": {},
   "outputs": [],
   "source": []
  }
 ],
 "metadata": {
  "kernelspec": {
   "display_name": "Python 3",
   "language": "python",
   "name": "python3"
  },
  "language_info": {
   "codemirror_mode": {
    "name": "ipython",
    "version": 3
   },
   "file_extension": ".py",
   "mimetype": "text/x-python",
   "name": "python",
   "nbconvert_exporter": "python",
   "pygments_lexer": "ipython3",
   "version": "3.7.4"
  }
 },
 "nbformat": 4,
 "nbformat_minor": 5
}
