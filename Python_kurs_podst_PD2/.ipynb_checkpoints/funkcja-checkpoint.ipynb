{
 "cells": [
  {
   "cell_type": "code",
   "execution_count": 17,
   "metadata": {},
   "outputs": [],
   "source": [
    "lista_notowan=[('CCC',122.55,121.7,123.5,122.4),\n",
    "('ERG',43,41.2,44.8,43.6),\n",
    "('IMS',2.99,2.99,3.05,3.05),\n",
    "('INTROL',5.08,4.84,5.08,4.94),\n",
    "('PEPCO',47.25,46.945,48.2,48),\n",
    "('ROPCZYCE',31.4,30.7,31.4,31.3),\n",
    "('TSGAMES',350.6,348,359.6,352.6),\n",
    "('WIRTUALNA',151,145.8,155.4,147.8)]\n"
   ]
  },
  {
   "cell_type": "code",
   "execution_count": 18,
   "metadata": {},
   "outputs": [],
   "source": [
    "kursy_walut = {\n",
    "'1 USD':3.9911,\n",
    "'1 AUD':2.9424,\n",
    "'1 HKD':0.5127,\n",
    "'1 CAD':3.1997,\n",
    "'1 EUR':4.6065,\n",
    "'100 HUF':1.28,\n",
    "'1 CHF':4.362,\n",
    "'1 GBP':5.3604,\n",
    "'100 JPY':3.5065,\n",
    "'10000 IDR':2.7856,\n",
    "'1 CNY':0.6235}\n",
    "\n",
    "\n"
   ]
  },
  {
   "cell_type": "code",
   "execution_count": 33,
   "metadata": {},
   "outputs": [],
   "source": [
    "def maxZmGPW (notowania,kursy,waluta):\n",
    "    if(notowania==[]):\n",
    "        return None\n",
    "    kurs=0\n",
    "    zmiennosc=0\n",
    "    for x in notowania:\n",
    "        zm =(x[4]+x[3])/(x[1]+x[2])\n",
    "        if zmiennosc<zm:\n",
    "            zmiennosc=zm\n",
    "            papier=(x[0],)\n",
    "            max_zm=(x[1],x[2],x[3],x[4])\n",
    "        else:\n",
    "            continue\n",
    "\n",
    "    for key,value in kursy_walut.items():\n",
    "        if(key[-3:]==waluta):\n",
    "            kurs=value/float(key[:-4])\n",
    "        else:\n",
    "            continue\n",
    "            \n",
    "    if(kurs==0):\n",
    "        max_zm_2=(0,0,0,0)\n",
    "    else:\n",
    "        max_zm_2=tuple(round(x/kurs,2) for x in max_zm)\n",
    "    final=papier+max_zm_2\n",
    "    print(final)"
   ]
  },
  {
   "cell_type": "code",
   "execution_count": 36,
   "metadata": {},
   "outputs": [
    {
     "name": "stdout",
     "output_type": "stream",
     "text": [
      "Podaj w jakiej walucie:\n",
      "HUF\n",
      "('ERG', 3359.38, 3218.75, 3500.0, 3406.25)\n"
     ]
    }
   ],
   "source": [
    "\n"
   ]
  },
  {
   "cell_type": "code",
   "execution_count": 16,
   "metadata": {},
   "outputs": [],
   "source": []
  },
  {
   "cell_type": "code",
   "execution_count": null,
   "metadata": {},
   "outputs": [],
   "source": []
  },
  {
   "cell_type": "code",
   "execution_count": null,
   "metadata": {},
   "outputs": [],
   "source": []
  }
 ],
 "metadata": {
  "kernelspec": {
   "display_name": "Python 3",
   "language": "python",
   "name": "python3"
  },
  "language_info": {
   "codemirror_mode": {
    "name": "ipython",
    "version": 3
   },
   "file_extension": ".py",
   "mimetype": "text/x-python",
   "name": "python",
   "nbconvert_exporter": "python",
   "pygments_lexer": "ipython3",
   "version": "3.7.4"
  }
 },
 "nbformat": 4,
 "nbformat_minor": 2
}
